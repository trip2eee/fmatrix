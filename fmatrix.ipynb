{
 "cells": [
  {
   "cell_type": "markdown",
   "metadata": {},
   "source": [
    "# Fundamental Matrix"
   ]
  },
  {
   "cell_type": "code",
   "execution_count": 1,
   "metadata": {},
   "outputs": [
    {
     "data": {
      "text/latex": [
       "$\\displaystyle \\left[\\begin{matrix}f_{00} & f_{01} & f_{02}\\\\f_{10} & f_{11} & f_{12}\\\\f_{20} & f_{21} & f_{22}\\end{matrix}\\right]$"
      ],
      "text/plain": [
       "Matrix([\n",
       "[f00, f01, f02],\n",
       "[f10, f11, f12],\n",
       "[f20, f21, f22]])"
      ]
     },
     "metadata": {},
     "output_type": "display_data"
    },
    {
     "data": {
      "text/latex": [
       "$\\displaystyle \\left[\\begin{matrix}f_{02} u_{2} + f_{12} v_{2} + f_{22} + u_{1} \\left(f_{00} u_{2} + f_{10} v_{2} + f_{20}\\right) + v_{1} \\left(f_{01} u_{2} + f_{11} v_{2} + f_{21}\\right)\\end{matrix}\\right]$"
      ],
      "text/plain": [
       "Matrix([[f02*u2 + f12*v2 + f22 + u1*(f00*u2 + f10*v2 + f20) + v1*(f01*u2 + f11*v2 + f21)]])"
      ]
     },
     "metadata": {},
     "output_type": "display_data"
    },
    {
     "name": "stdout",
     "output_type": "stream",
     "text": [
      "u1*u2\n",
      "u2*v1\n",
      "u2\n",
      "u1*v2\n",
      "v1*v2\n",
      "v2\n",
      "u1\n",
      "v1\n",
      "1\n"
     ]
    }
   ],
   "source": [
    "import sympy as sp\n",
    "\n",
    "import sympy as sp\n",
    "\n",
    "u1, v1 = sp.symbols('u1 v1')\n",
    "u2, v2 = sp.symbols('u2 v2')\n",
    "\n",
    "f00, f01, f02 = sp.symbols('f00 f01 f02')\n",
    "f10, f11, f12 = sp.symbols('f10 f11 f12')\n",
    "f20, f21, f22 = sp.symbols('f20 f21 f22')\n",
    "\n",
    "F = sp.Matrix([\n",
    "    [f00, f01, f02],\n",
    "    [f10, f11, f12],\n",
    "    [f20, f21, f22]\n",
    "])\n",
    "\n",
    "\n",
    "display(F)\n",
    "\n",
    "x1 = sp.Matrix([[u1, v1, 1]]).T\n",
    "x2 = sp.Matrix([[u2, v2, 1]]).T\n",
    "\n",
    "h = x2.T * F * x1\n",
    "\n",
    "display(h)\n",
    "df0 = h.diff(f00)\n",
    "df1 = h.diff(f01)\n",
    "df2 = h.diff(f02)\n",
    "df3 = h.diff(f10)\n",
    "df4 = h.diff(f11)\n",
    "df5 = h.diff(f12)\n",
    "df6 = h.diff(f20)\n",
    "df7 = h.diff(f21)\n",
    "df8 = h.diff(f22)\n",
    "\n",
    "print(df0[0,0])\n",
    "print(df1[0,0])\n",
    "print(df2[0,0])\n",
    "print(df3[0,0])\n",
    "print(df4[0,0])\n",
    "print(df5[0,0])\n",
    "print(df6[0,0])\n",
    "print(df7[0,0])\n",
    "print(df8[0,0])\n",
    "\n",
    "\n"
   ]
  },
  {
   "cell_type": "code",
   "execution_count": 2,
   "metadata": {},
   "outputs": [
    {
     "data": {
      "text/latex": [
       "$\\displaystyle \\left[\\begin{matrix}0 & - a_{3} & a_{2}\\\\a_{3} & 0 & - a_{1}\\\\- a_{2} & a_{1} & 0\\end{matrix}\\right]$"
      ],
      "text/plain": [
       "Matrix([\n",
       "[  0, -a3,  a2],\n",
       "[ a3,   0, -a1],\n",
       "[-a2,  a1,   0]])"
      ]
     },
     "metadata": {},
     "output_type": "display_data"
    },
    {
     "data": {
      "text/latex": [
       "$\\displaystyle \\left[\\begin{matrix}0 & 0 & 0\\\\0 & 0 & 0\\\\0 & 0 & 0\\end{matrix}\\right]$"
      ],
      "text/plain": [
       "Matrix([\n",
       "[0, 0, 0],\n",
       "[0, 0, 0],\n",
       "[0, 0, 0]])"
      ]
     },
     "metadata": {},
     "output_type": "display_data"
    },
    {
     "data": {
      "text/latex": [
       "$\\displaystyle \\left[\\begin{matrix}0 & a_{3} \\left(a_{1}^{2} + a_{2}^{2} + a_{3}^{2}\\right) & a_{2} \\left(- a_{1}^{2} - a_{2}^{2} - a_{3}^{2}\\right)\\\\a_{3} \\left(- a_{1}^{2} - a_{2}^{2} - a_{3}^{2}\\right) & 0 & a_{1} \\left(a_{1}^{2} + a_{2}^{2} + a_{3}^{2}\\right)\\\\a_{2} \\left(a_{1}^{2} + a_{2}^{2} + a_{3}^{2}\\right) & a_{1} \\left(- a_{1}^{2} - a_{2}^{2} - a_{3}^{2}\\right) & 0\\end{matrix}\\right]$"
      ],
      "text/plain": [
       "Matrix([\n",
       "[                          0,  a3*(a1**2 + a2**2 + a3**2), a2*(-a1**2 - a2**2 - a3**2)],\n",
       "[a3*(-a1**2 - a2**2 - a3**2),                           0,  a1*(a1**2 + a2**2 + a3**2)],\n",
       "[ a2*(a1**2 + a2**2 + a3**2), a1*(-a1**2 - a2**2 - a3**2),                           0]])"
      ]
     },
     "metadata": {},
     "output_type": "display_data"
    }
   ],
   "source": [
    "import sympy as sp\n",
    "import IPython.display\n",
    "\n",
    "a1, a2, a3 = sp.symbols('a1 a2 a3')\n",
    "ax = sp.Matrix([\n",
    "    [0, -a3, a2],\n",
    "    [a3, 0, -a1],\n",
    "    [-a2, a1, 0]\n",
    "])\n",
    "\n",
    "display(ax)\n",
    "display(ax + ax.T)\n",
    "\n",
    "ax3 = ax * ax * ax\n",
    "ax3 = sp.simplify(ax3)\n",
    "\n",
    "display(ax3)\n",
    "\n",
    "\n"
   ]
  }
 ],
 "metadata": {
  "kernelspec": {
   "display_name": "Python 3",
   "language": "python",
   "name": "python3"
  },
  "language_info": {
   "codemirror_mode": {
    "name": "ipython",
    "version": 3
   },
   "file_extension": ".py",
   "mimetype": "text/x-python",
   "name": "python",
   "nbconvert_exporter": "python",
   "pygments_lexer": "ipython3",
   "version": "3.9.7"
  }
 },
 "nbformat": 4,
 "nbformat_minor": 2
}
