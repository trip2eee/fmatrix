{
 "cells": [
  {
   "cell_type": "markdown",
   "metadata": {},
   "source": [
    "# Fundamental Matrix"
   ]
  },
  {
   "cell_type": "markdown",
   "metadata": {},
   "source": [
    "## Initial value $\\mathbf{F}_0$"
   ]
  },
  {
   "cell_type": "code",
   "execution_count": 65,
   "metadata": {},
   "outputs": [
    {
     "data": {
      "text/latex": [
       "$\\displaystyle \\left[\\begin{matrix}f_{00} & f_{01} & f_{02}\\\\f_{10} & f_{11} & f_{12}\\\\f_{20} & f_{21} & f_{22}\\end{matrix}\\right]$"
      ],
      "text/plain": [
       "Matrix([\n",
       "[f00, f01, f02],\n",
       "[f10, f11, f12],\n",
       "[f20, f21, f22]])"
      ]
     },
     "metadata": {},
     "output_type": "display_data"
    },
    {
     "data": {
      "text/latex": [
       "$\\displaystyle \\left[\\begin{matrix}f_{02} u_{2} + f_{12} v_{2} + f_{22} + u_{1} \\left(f_{00} u_{2} + f_{10} v_{2} + f_{20}\\right) + v_{1} \\left(f_{01} u_{2} + f_{11} v_{2} + f_{21}\\right)\\end{matrix}\\right]$"
      ],
      "text/plain": [
       "Matrix([[f02*u2 + f12*v2 + f22 + u1*(f00*u2 + f10*v2 + f20) + v1*(f01*u2 + f11*v2 + f21)]])"
      ]
     },
     "metadata": {},
     "output_type": "display_data"
    },
    {
     "name": "stdout",
     "output_type": "stream",
     "text": [
      "u1*u2\n",
      "u2*v1\n",
      "u2\n",
      "u1*v2\n",
      "v1*v2\n",
      "v2\n",
      "u1\n",
      "v1\n",
      "1\n"
     ]
    }
   ],
   "source": [
    "import sympy as sp\n",
    "\n",
    "u1, v1 = sp.symbols('u1 v1')\n",
    "u2, v2 = sp.symbols('u2 v2')\n",
    "\n",
    "f00, f01, f02 = sp.symbols('f00 f01 f02')\n",
    "f10, f11, f12 = sp.symbols('f10 f11 f12')\n",
    "f20, f21, f22 = sp.symbols('f20 f21 f22')\n",
    "\n",
    "F = sp.Matrix([\n",
    "    [f00, f01, f02],\n",
    "    [f10, f11, f12],\n",
    "    [f20, f21, f22]\n",
    "])\n",
    "\n",
    "\n",
    "display(F)\n",
    "\n",
    "x1 = sp.Matrix([[u1, v1, 1]]).T\n",
    "x2 = sp.Matrix([[u2, v2, 1]]).T\n",
    "\n",
    "h = x2.T * F * x1\n",
    "\n",
    "display(h)\n",
    "df0 = h.diff(f00)\n",
    "df1 = h.diff(f01)\n",
    "df2 = h.diff(f02)\n",
    "df3 = h.diff(f10)\n",
    "df4 = h.diff(f11)\n",
    "df5 = h.diff(f12)\n",
    "df6 = h.diff(f20)\n",
    "df7 = h.diff(f21)\n",
    "df8 = h.diff(f22)\n",
    "\n",
    "print(df0[0,0])\n",
    "print(df1[0,0])\n",
    "print(df2[0,0])\n",
    "print(df3[0,0])\n",
    "print(df4[0,0])\n",
    "print(df5[0,0])\n",
    "print(df6[0,0])\n",
    "print(df7[0,0])\n",
    "print(df8[0,0])\n",
    "\n",
    "\n"
   ]
  },
  {
   "cell_type": "code",
   "execution_count": 66,
   "metadata": {},
   "outputs": [
    {
     "data": {
      "text/latex": [
       "$\\displaystyle \\left[\\begin{matrix}0 & - a_{3} & a_{2}\\\\a_{3} & 0 & - a_{1}\\\\- a_{2} & a_{1} & 0\\end{matrix}\\right]$"
      ],
      "text/plain": [
       "Matrix([\n",
       "[  0, -a3,  a2],\n",
       "[ a3,   0, -a1],\n",
       "[-a2,  a1,   0]])"
      ]
     },
     "metadata": {},
     "output_type": "display_data"
    },
    {
     "data": {
      "text/latex": [
       "$\\displaystyle \\left[\\begin{matrix}0 & 0 & 0\\\\0 & 0 & 0\\\\0 & 0 & 0\\end{matrix}\\right]$"
      ],
      "text/plain": [
       "Matrix([\n",
       "[0, 0, 0],\n",
       "[0, 0, 0],\n",
       "[0, 0, 0]])"
      ]
     },
     "metadata": {},
     "output_type": "display_data"
    },
    {
     "data": {
      "text/latex": [
       "$\\displaystyle \\left[\\begin{matrix}0 & a_{3} \\left(a_{1}^{2} + a_{2}^{2} + a_{3}^{2}\\right) & a_{2} \\left(- a_{1}^{2} - a_{2}^{2} - a_{3}^{2}\\right)\\\\a_{3} \\left(- a_{1}^{2} - a_{2}^{2} - a_{3}^{2}\\right) & 0 & a_{1} \\left(a_{1}^{2} + a_{2}^{2} + a_{3}^{2}\\right)\\\\a_{2} \\left(a_{1}^{2} + a_{2}^{2} + a_{3}^{2}\\right) & a_{1} \\left(- a_{1}^{2} - a_{2}^{2} - a_{3}^{2}\\right) & 0\\end{matrix}\\right]$"
      ],
      "text/plain": [
       "Matrix([\n",
       "[                          0,  a3*(a1**2 + a2**2 + a3**2), a2*(-a1**2 - a2**2 - a3**2)],\n",
       "[a3*(-a1**2 - a2**2 - a3**2),                           0,  a1*(a1**2 + a2**2 + a3**2)],\n",
       "[ a2*(a1**2 + a2**2 + a3**2), a1*(-a1**2 - a2**2 - a3**2),                           0]])"
      ]
     },
     "metadata": {},
     "output_type": "display_data"
    }
   ],
   "source": [
    "import sympy as sp\n",
    "import IPython.display\n",
    "\n",
    "a1, a2, a3 = sp.symbols('a1 a2 a3')\n",
    "ax = sp.Matrix([\n",
    "    [0, -a3, a2],\n",
    "    [a3, 0, -a1],\n",
    "    [-a2, a1, 0]\n",
    "])\n",
    "\n",
    "display(ax)\n",
    "display(ax + ax.T)\n",
    "\n",
    "ax3 = ax * ax * ax\n",
    "ax3 = sp.simplify(ax3)\n",
    "\n",
    "display(ax3)\n",
    "\n",
    "\n"
   ]
  },
  {
   "cell_type": "markdown",
   "metadata": {},
   "source": [
    "## Optimization"
   ]
  },
  {
   "cell_type": "markdown",
   "metadata": {},
   "source": [
    "#$ f(\\mathbf{x}) = f_{proj}(\\mathbf{x}) + f_{ortho}(\\mathbf{x})$\n",
    "\n",
    "$f_{proj}$: Projection error\n",
    "\n",
    "$P = \\begin{bmatrix} 1 & 0 & 0 & 0 \\\\ 0 & 1 & 0 & 0 \\\\ 0 & 0 & 1 & 0 \\end{bmatrix}$\n",
    "\n",
    "$P' = \\begin{bmatrix} m_{00} & m_{01} & m_{02} & t_x \\\\ m_{10} & m_{11} & m_{12} & t_y \\\\ m_{20} & m_{21} & m_{22} & t_z \\end{bmatrix}$\n",
    "\n",
    "\n",
    "$f_{proj,i} = \\left(u_i - \\hat{u}_i\\right)^2 + \\left(v_i - \\hat{v}_i\\right)^2 + \\left(u'_i - \\hat{u}'_i\\right)^2 + \\left(v'_i - \\hat{v}'_i\\right)^2 $\n",
    "\n",
    "$ f_{proj} = d^2_i$\n"
   ]
  },
  {
   "cell_type": "markdown",
   "metadata": {},
   "source": [
    "\n",
    "$f_{ortho}$: Orthogonality error\n",
    "\n",
    "$m^2_{00} + m^2_{10} + m^2_{20} = 1$\n",
    "\n",
    "$m^2_{01} + m^2_{11} + m^2_{21} = 1$\n",
    "\n",
    "$m^2_{02} + m^2_{12} + m^2_{22} = 1$\n",
    "\n",
    "$m_{00}m_{01} + m_{10}m_{11} + m_{20}m_{21} = 0$\n",
    "\n",
    "$m_{00}m_{02} + m_{10}m_{12} + m_{20}m_{22} = 0$\n",
    "\n",
    "$m_{01}m_{02} + m_{11}m_{12} + m_{21}m_{22} = 0$\n",
    "\n",
    "\n",
    "$f_{ortho} = \\left(m^2_{00} + m^2_{10} + m^2_{20} - 1\\right)^2 + \\left(m^2_{01} + m^2_{11} + m^2_{21} - 1\\right)^2 + \\left(m^2_{02} + m^2_{12} + m^2_{22}-1\\right)^2 + \\left(m_{00}m_{01} + m_{10}m_{11} + m_{20}m_{21}\\right) + \\left(m_{00}m_{02} + m_{10}m_{12} + m_{20}m_{22}\\right) + \\left(m_{01}m_{02} + m_{11}m_{12} + m_{21}m_{22}\\right)$\n",
    "\n"
   ]
  },
  {
   "cell_type": "markdown",
   "metadata": {},
   "source": [
    "\n",
    "### Solve Equation\n",
    "$ e(\\mathbf{x}) = \\sum_i{ \\left(f_{proj,i}(\\mathbf{x})\\right)^2 } + \\left(f_{ortho}(\\mathbf{x})\\right)^2$\n",
    "\n",
    "$ e(\\mathbf{x} + \\Delta \\mathbf{x}) = \\sum_i{\\left(f_{proj,i}(\\mathbf{x}) + \\frac{\\partial f_{proj}}{\\partial \\mathbf{x}} \\Delta \\mathbf{x}\\right)^2} + \\left(f_{ortho}(\\mathbf{x}) + \\frac{\\partial f_{ortho}}{\\partial \\mathbf{x}} \\Delta \\mathbf{x} \\right)^2$\n",
    "\n",
    "$\\frac{\\partial e}{\\partial \\mathbf{x}} = \\sum_i{\\frac{\\partial f_{proj,i}}{\\partial \\mathbf{x}}^T\\left(f_{proj,i}(\\mathbf{x}) + \\frac{\\partial f_{proj}}{\\partial \\mathbf{x}} \\Delta \\mathbf{x}\\right) } + \\frac{\\partial f_{ortho}}{\\partial \\mathbf{x}}^T \\left(f_{ortho}(\\mathbf{x}) + \\frac{\\partial f_{ortho}}{\\partial \\mathbf{x}} \\Delta \\mathbf{x} \\right) = 0$\n",
    "\n",
    "\n",
    "$\\sum_i{\\frac{\\partial f_{proj,i}}{\\partial \\mathbf{x}}^T f_{proj,i}(\\mathbf{x}) } + \\frac{\\partial f_{ortho}}{\\partial \\mathbf{x}}^T f_{ortho}(\\mathbf{x}) = -\\left( \\sum_i{\\frac{\\partial f_{proj,i}}{\\partial \\mathbf{x}}^T \\frac{\\partial f_{proj}}{\\partial \\mathbf{x}}} + \\frac{\\partial f_{ortho}}{\\partial \\mathbf{x}}^T \\frac{\\partial f_{ortho}}{\\partial \\mathbf{x}} \\right) \\Delta \\mathbf{x} $\n",
    "\n"
   ]
  },
  {
   "cell_type": "code",
   "execution_count": 67,
   "metadata": {},
   "outputs": [
    {
     "name": "stdout",
     "output_type": "stream",
     "text": [
      "Matrix([[m00**2 + m10**2 + m20**2, m00*m01 + m10*m11 + m20*m21, m00*m02 + m10*m12 + m20*m22], [m00*m01 + m10*m11 + m20*m21, m01**2 + m11**2 + m21**2, m01*m02 + m11*m12 + m21*m22], [m00*m02 + m10*m12 + m20*m22, m01*m02 + m11*m12 + m21*m22, m02**2 + m12**2 + m22**2]])\n",
      "P1\n"
     ]
    },
    {
     "data": {
      "text/latex": [
       "$\\displaystyle \\left[\\begin{matrix}1 & 0 & 0 & 0\\\\0 & 1 & 0 & 0\\\\0 & 0 & 1 & 0\\end{matrix}\\right]$"
      ],
      "text/plain": [
       "Matrix([\n",
       "[1, 0, 0, 0],\n",
       "[0, 1, 0, 0],\n",
       "[0, 0, 1, 0]])"
      ]
     },
     "metadata": {},
     "output_type": "display_data"
    },
    {
     "name": "stdout",
     "output_type": "stream",
     "text": [
      "P2\n"
     ]
    },
    {
     "data": {
      "text/latex": [
       "$\\displaystyle \\left[\\begin{matrix}m_{00} & m_{01} & m_{02} & tx\\\\m_{10} & m_{11} & m_{12} & ty\\\\m_{20} & m_{21} & m_{22} & tz\\end{matrix}\\right]$"
      ],
      "text/plain": [
       "Matrix([\n",
       "[m00, m01, m02, tx],\n",
       "[m10, m11, m12, ty],\n",
       "[m20, m21, m22, tz]])"
      ]
     },
     "metadata": {},
     "output_type": "display_data"
    },
    {
     "name": "stdout",
     "output_type": "stream",
     "text": [
      "f\n",
      "Matrix([[u1 - x/z], [v1 - y/z], [u2 - (m00*x + m01*y + m02*z + tx)/(m20*x + m21*y + m22*z + tz)], [v2 - (m10*x + m11*y + m12*z + ty)/(m20*x + m21*y + m22*z + tz)], [m00**2 + m10**2 + m20**2 - 1], [m01**2 + m11**2 + m21**2 - 1], [m02**2 + m12**2 + m22**2 - 1], [m00*m01 + m10*m11 + m20*m21], [m00*m02 + m10*m12 + m20*m22], [m01*m02 + m11*m12 + m21*m22]])\n",
      "J\n",
      "(15, 1, 10, 1)\n",
      "(10, 15)\n",
      "Matrix([[0, 0, 0, 0, 0, 0, 0, 0, 0, 0, 0, 0, -1/z, 0, x/z**2], [0, 0, 0, 0, 0, 0, 0, 0, 0, 0, 0, 0, 0, -1/z, y/z**2], [-x/(m20*x + m21*y + m22*z + tz), -y/(m20*x + m21*y + m22*z + tz), -z/(m20*x + m21*y + m22*z + tz), -1/(m20*x + m21*y + m22*z + tz), 0, 0, 0, 0, x*(m00*x + m01*y + m02*z + tx)/(m20*x + m21*y + m22*z + tz)**2, y*(m00*x + m01*y + m02*z + tx)/(m20*x + m21*y + m22*z + tz)**2, z*(m00*x + m01*y + m02*z + tx)/(m20*x + m21*y + m22*z + tz)**2, (m00*x + m01*y + m02*z + tx)/(m20*x + m21*y + m22*z + tz)**2, -m00/(m20*x + m21*y + m22*z + tz) + m20*(m00*x + m01*y + m02*z + tx)/(m20*x + m21*y + m22*z + tz)**2, -m01/(m20*x + m21*y + m22*z + tz) + m21*(m00*x + m01*y + m02*z + tx)/(m20*x + m21*y + m22*z + tz)**2, -m02/(m20*x + m21*y + m22*z + tz) + m22*(m00*x + m01*y + m02*z + tx)/(m20*x + m21*y + m22*z + tz)**2], [0, 0, 0, 0, -x/(m20*x + m21*y + m22*z + tz), -y/(m20*x + m21*y + m22*z + tz), -z/(m20*x + m21*y + m22*z + tz), -1/(m20*x + m21*y + m22*z + tz), x*(m10*x + m11*y + m12*z + ty)/(m20*x + m21*y + m22*z + tz)**2, y*(m10*x + m11*y + m12*z + ty)/(m20*x + m21*y + m22*z + tz)**2, z*(m10*x + m11*y + m12*z + ty)/(m20*x + m21*y + m22*z + tz)**2, (m10*x + m11*y + m12*z + ty)/(m20*x + m21*y + m22*z + tz)**2, -m10/(m20*x + m21*y + m22*z + tz) + m20*(m10*x + m11*y + m12*z + ty)/(m20*x + m21*y + m22*z + tz)**2, -m11/(m20*x + m21*y + m22*z + tz) + m21*(m10*x + m11*y + m12*z + ty)/(m20*x + m21*y + m22*z + tz)**2, -m12/(m20*x + m21*y + m22*z + tz) + m22*(m10*x + m11*y + m12*z + ty)/(m20*x + m21*y + m22*z + tz)**2], [2*m00, 0, 0, 0, 2*m10, 0, 0, 0, 2*m20, 0, 0, 0, 0, 0, 0], [0, 2*m01, 0, 0, 0, 2*m11, 0, 0, 0, 2*m21, 0, 0, 0, 0, 0], [0, 0, 2*m02, 0, 0, 0, 2*m12, 0, 0, 0, 2*m22, 0, 0, 0, 0], [m01, m00, 0, 0, m11, m10, 0, 0, m21, m20, 0, 0, 0, 0, 0], [m02, 0, m00, 0, m12, 0, m10, 0, m22, 0, m20, 0, 0, 0, 0], [0, m02, m01, 0, 0, m12, m11, 0, 0, m22, m21, 0, 0, 0, 0]])\n"
     ]
    }
   ],
   "source": [
    "import sympy as sp\n",
    "import IPython.display\n",
    "\n",
    "m00, m01, m02 = sp.symbols('m00 m01 m02')\n",
    "m10, m11, m12 = sp.symbols('m10 m11 m12')\n",
    "m20, m21, m22 = sp.symbols('m20 m21 m22')\n",
    "\n",
    "u1, v1, u2, v2 = sp.symbols('u1 v1 u2 v2')\n",
    "\n",
    "tx, ty, tz = sp.symbols('tx ty tz')\n",
    "x, y, z = sp.symbols('x y z')\n",
    "\n",
    "M = sp.Matrix([\n",
    "    [m00, m01, m02],\n",
    "    [m10, m11, m12],\n",
    "    [m20, m21, m22]\n",
    "])\n",
    "\n",
    "o = M.T * M\n",
    "print(o)\n",
    "\n",
    "t = sp.Matrix([[tx, ty, tz]]).T\n",
    "\n",
    "# display(M)\n",
    "# display(t)\n",
    "\n",
    "P1 = sp.Matrix([\n",
    "    [1, 0, 0, 0],\n",
    "    [0, 1, 0, 0],\n",
    "    [0, 0, 1, 0],\n",
    "])\n",
    "\n",
    "P2 = M.row_join(t)\n",
    "\n",
    "print('P1')\n",
    "display(P1)\n",
    "\n",
    "print('P2')\n",
    "display(P2)\n",
    "\n",
    "X = sp.Matrix([[x, y, z, 1]]).T\n",
    "\n",
    "p1_proj = P1*X\n",
    "p2_proj = P2*X\n",
    "\n",
    "u1_proj = p1_proj[0,0] / p1_proj[2,0]\n",
    "v1_proj = p1_proj[1,0] / p1_proj[2,0]\n",
    "\n",
    "u2_proj = p2_proj[0,0] / p2_proj[2,0]\n",
    "v2_proj = p2_proj[1,0] / p2_proj[2,0]\n",
    "\n",
    "param = sp.Matrix([[m00, m01, m02, tx, m10, m11, m12, ty, m20, m21, m22, tz, x, y, z]]).T\n",
    "\n",
    "f = sp.Matrix([\n",
    "    [u1-u1_proj],\n",
    "    [v1-v1_proj],\n",
    "    [u2-u2_proj],\n",
    "    [v2-v2_proj],\n",
    "    [m00**2 + m10**2 + m20**2 - 1],\n",
    "    [m01**2 + m11**2 + m21**2 - 1],\n",
    "    [m02**2 + m12**2 + m22**2 - 1],\n",
    "    [m00*m01 + m10*m11 + m20*m21],\n",
    "    [m00*m02 + m10*m12 + m20*m22],\n",
    "    [m01*m02 + m11*m12 + m21*m22],\n",
    "])\n",
    "\n",
    "J = f.diff(param)\n",
    "\n",
    "print('f')\n",
    "print(f)\n",
    "\n",
    "print('J')\n",
    "print(J.shape)\n",
    "J = sp.Matrix(J[:,0,:,0]).T\n",
    "print(J.shape)\n",
    "print(J)\n"
   ]
  },
  {
   "cell_type": "markdown",
   "metadata": {},
   "source": [
    "$e = \\sum_i {\\lVert f_i(x) \\rVert^2}$\n",
    "\n",
    "$= \\sum_i {\\lVert f_i(x + \\Delta x) \\rVert^2}$\n",
    "\n",
    "$= \\sum_i {\\lVert f_i(x) + \\frac{\\partial f_i}{\\partial x}\\Delta x \\rVert^2}$\n",
    "\n",
    "$\\frac{\\partial e}{\\partial \\Delta x} = \\sum_i{ \\frac{\\partial f_i}{\\partial x}^T \\left(f_i(x) + \\frac{\\partial f_i}{\\partial x}\\Delta x\\right)} = 0$"
   ]
  }
 ],
 "metadata": {
  "kernelspec": {
   "display_name": "Python 3",
   "language": "python",
   "name": "python3"
  },
  "language_info": {
   "codemirror_mode": {
    "name": "ipython",
    "version": 3
   },
   "file_extension": ".py",
   "mimetype": "text/x-python",
   "name": "python",
   "nbconvert_exporter": "python",
   "pygments_lexer": "ipython3",
   "version": "3.9.7"
  }
 },
 "nbformat": 4,
 "nbformat_minor": 2
}
